{
 "cells": [
  {
   "cell_type": "markdown",
   "id": "65b3dec2",
   "metadata": {},
   "source": [
    "## _Data Wrangling with Python_ Activities\n"
   ]
  },
  {
   "cell_type": "markdown",
   "id": "eee6bca7",
   "metadata": {},
   "source": [
    "### Activity 1"
   ]
  },
  {
   "cell_type": "code",
   "execution_count": 3,
   "id": "af57fc99",
   "metadata": {},
   "outputs": [],
   "source": [
    "import random"
   ]
  },
  {
   "cell_type": "code",
   "execution_count": 35,
   "id": "1a541cad",
   "metadata": {},
   "outputs": [
    {
     "data": {
      "text/plain": [
       "68"
      ]
     },
     "execution_count": 35,
     "metadata": {},
     "output_type": "execute_result"
    }
   ],
   "source": [
    "lst1 = [random.randint(0, 100) for x in range(0, 100)]\n",
    "lst2  = [x for x in lst1 if x % 3 == 0]\n",
    "diff1 = len(lst1) - len(lst2)\n",
    "diff1"
   ]
  },
  {
   "cell_type": "code",
   "execution_count": 69,
   "id": "fd5b6eb4",
   "metadata": {},
   "outputs": [],
   "source": [
    "diff_lst = []\n",
    "for x in range(3):\n",
    "    master_list = [random.randint(0, 100) for x in range(0, 100)]\n",
    "    div_list = [x for x in master_list if x % 3 == 0]\n",
    "    master_lngth = len(master_list)\n",
    "    div_lngth = len(div_list)\n",
    "    diff = master_lngth - div_lngth\n",
    "    diff_lst.append(diff)"
   ]
  },
  {
   "cell_type": "code",
   "execution_count": 72,
   "id": "c3de2831",
   "metadata": {},
   "outputs": [
    {
     "data": {
      "text/plain": [
       "63.333333333333336"
      ]
     },
     "execution_count": 72,
     "metadata": {},
     "output_type": "execute_result"
    }
   ],
   "source": [
    "total = 0\n",
    "for x in diff_lst:\n",
    "    total = total + x\n",
    "avg = total / len(diff_lst)\n",
    "avg"
   ]
  },
  {
   "cell_type": "code",
   "execution_count": null,
   "id": "089f1b89",
   "metadata": {},
   "outputs": [],
   "source": []
  },
  {
   "cell_type": "code",
   "execution_count": null,
   "id": "0fd2cf43",
   "metadata": {},
   "outputs": [],
   "source": []
  }
 ],
 "metadata": {
  "kernelspec": {
   "display_name": "Python 3 (ipykernel)",
   "language": "python",
   "name": "python3"
  },
  "language_info": {
   "codemirror_mode": {
    "name": "ipython",
    "version": 3
   },
   "file_extension": ".py",
   "mimetype": "text/x-python",
   "name": "python",
   "nbconvert_exporter": "python",
   "pygments_lexer": "ipython3",
   "version": "3.9.7"
  }
 },
 "nbformat": 4,
 "nbformat_minor": 5
}
