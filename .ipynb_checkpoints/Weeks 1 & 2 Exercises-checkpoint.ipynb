{
 "cells": [
  {
   "cell_type": "markdown",
   "id": "c12f74a0",
   "metadata": {},
   "source": [
    "## 1. Beginner Stuff"
   ]
  },
  {
   "cell_type": "code",
   "execution_count": 10,
   "id": "a49e4975",
   "metadata": {},
   "outputs": [
    {
     "name": "stdout",
     "output_type": "stream",
     "text": [
      "[-43, 1, 2, 5, 8, 9, 523, 83, 90, 73, 29, 84, 6, 92, 23, 40, 10, 33, 1, 79, 20, 58, 49, 77, 80, 30, 64, 36, 88, 81, 10, 53, 77, 44, 22, 1, 92]\n"
     ]
    }
   ],
   "source": [
    "# create a list\n",
    "lst1 = [1, 5, 8, 9, -43, 523, 2]\n",
    "# sort list\n",
    "lst1.sort()\n",
    "# generate random numbers\n",
    "rans = [random.randint(0, 100) for x in range(30)]\n",
    "# add random nums to list\n",
    "lst1.extend(rans)\n",
    "# print list\n",
    "print(lst1)"
   ]
  },
  {
   "cell_type": "markdown",
   "id": "2a216fbd",
   "metadata": {},
   "source": [
    "## 2. World Population Line Chart"
   ]
  },
  {
   "cell_type": "code",
   "execution_count": 11,
   "id": "764f265c",
   "metadata": {},
   "outputs": [],
   "source": [
    "import matplotlib.pyplot as plt\n",
    "import numpy"
   ]
  },
  {
   "cell_type": "code",
   "execution_count": null,
   "id": "99ac1083",
   "metadata": {},
   "outputs": [],
   "source": [
    "# opening file\n",
    "with open(\"world-population.xlsm\") as pop:\n",
    "    "
   ]
  },
  {
   "cell_type": "markdown",
   "id": "65b3dec2",
   "metadata": {},
   "source": [
    "## _Data Wrangling with Python_ Activities\n"
   ]
  },
  {
   "cell_type": "markdown",
   "id": "eee6bca7",
   "metadata": {},
   "source": [
    "### Activity 1"
   ]
  },
  {
   "cell_type": "code",
   "execution_count": 4,
   "id": "af57fc99",
   "metadata": {},
   "outputs": [],
   "source": [
    "import random"
   ]
  },
  {
   "cell_type": "code",
   "execution_count": 35,
   "id": "1a541cad",
   "metadata": {},
   "outputs": [
    {
     "data": {
      "text/plain": [
       "68"
      ]
     },
     "execution_count": 35,
     "metadata": {},
     "output_type": "execute_result"
    }
   ],
   "source": [
    "# create random list of 100 numbers b/w 0 and 100\n",
    "lst1 = [random.randint(0, 100) for x in range(0, 100)]\n",
    "# create list of those numbers in lst1 divisible by 3\n",
    "lst2  = [x for x in lst1 if x % 3 == 0]\n",
    "# find difference in length between lst1 and lst2\n",
    "diff1 = len(lst1) - len(lst2)\n",
    "diff1"
   ]
  },
  {
   "cell_type": "code",
   "execution_count": 69,
   "id": "fd5b6eb4",
   "metadata": {},
   "outputs": [],
   "source": [
    "diff_lst = []\n",
    "# loops 3 times, creating random list, finding num divisible by 3 and finding difference\n",
    "for x in range(3):\n",
    "    master_list = [random.randint(0, 100) for x in range(0, 100)]\n",
    "    div_list = [x for x in master_list if x % 3 == 0]\n",
    "    master_lngth = len(master_list)\n",
    "    div_lngth = len(div_list)\n",
    "    diff = master_lngth - div_lngth\n",
    "    diff_lst.append(diff)"
   ]
  },
  {
   "cell_type": "code",
   "execution_count": 72,
   "id": "c3de2831",
   "metadata": {},
   "outputs": [
    {
     "data": {
      "text/plain": [
       "63.333333333333336"
      ]
     },
     "execution_count": 72,
     "metadata": {},
     "output_type": "execute_result"
    }
   ],
   "source": [
    "# averages three differences in length from above chunk\n",
    "total = 0\n",
    "for x in diff_lst:\n",
    "    total = total + x\n",
    "avg = total / len(diff_lst)\n",
    "avg"
   ]
  },
  {
   "cell_type": "markdown",
   "id": "ed290d11",
   "metadata": {},
   "source": [
    "### Activty 2"
   ]
  },
  {
   "cell_type": "code",
   "execution_count": 12,
   "id": "0fd2cf43",
   "metadata": {},
   "outputs": [],
   "source": [
    "multiline_text = \"\"\"It is a truth universally acknowledged, that a single man in possession of a good fortune, must be in want of a wife.\n",
    "\n",
    "However little known the feelings or views of such a man may be on his first entering a neighbourhood, this truth is so well fixed in the minds of the surrounding families, that he is considered the rightful property of some one or other of their daughters.\n",
    "\n",
    "\"My dear Mr. Bennet,\" said his lady to him one day, \"have you heard that Netherfield Park is let at last?\"\n",
    "\n",
    "Mr. Bennet replied that he had not.\n",
    "\n",
    "\"But it is,\" returned she; \"for Mrs. Long has just been here, and she told me all about it.\"\n",
    "\n",
    "Mr. Bennet made no answer.\n",
    "\n",
    "\"Do you not want to know who has taken it?\" cried his wife impatiently.\n",
    "\n",
    "\"You want to tell me, and I have no objection to hearing it.\"\n",
    "\n",
    "This was invitation enough.\n",
    "\n",
    "\"Why, my dear, you must know, Mrs. Long says that Netherfield is taken by a young man of large fortune from the north of England; that he came down on Monday in a chaise and four to see the place, and was so much delighted with it, that he agreed with Mr. Morris immediately; that he is to take possession before Michaelmas, and some of his servants are to be in the house by the end of next week.\"\n",
    "\n",
    "\"What is his name?\"\n",
    "\n",
    "\"Bingley.\"\n",
    "\n",
    "\"Is he married or single?\"\n",
    "\n",
    "\"Oh! Single, my dear, to be sure! A single man of large fortune; four or five thousand a year. What a fine thing for our girls!\"\n",
    "\n",
    "\"How so? How can it affect them?\"\n",
    "\n",
    "\"My dear Mr. Bennet,\" replied his wife, \"how can you be so tiresome! You must know that I am thinking of his marrying one of them.\"\n",
    "\n",
    "\"Is that his design in settling here?\"\n",
    "\n",
    "\"Design! Nonsense, how can you talk so! But it is very likely that he may fall in love with one of them, and therefore you must visit him as soon as he comes.\"\n",
    "\n",
    "\"I see no occasion for that. You and the girls may go, or you may send them by themselves, which perhaps will be still better, for as you are as handsome as any of them, Mr. Bingley may like you the best of the party.\"\n",
    "\n",
    "\"My dear, you flatter me. I certainly have had my share of beauty, but I do not pretend to be anything extraordinary now. When a woman has five grown-up daughters, she ought to give over thinking of her own beauty.\"\n",
    "\n",
    "\"In such cases, a woman has not often much beauty to think of.\"\n",
    "\n",
    "\"But, my dear, you must indeed go and see Mr. Bingley when he comes into the neighbourhood.\"\n",
    "\n",
    "\"It is more than I engage for, I assure you.\"\n",
    "\n",
    "\"But consider your daughters. Only think what an establishment it would be for one of them. Sir William and Lady Lucas are determined to go, merely on that account, for in general, you know, they visit no newcomers. Indeed you must go, for it will be impossible for us to visit him if you do not.\"\n",
    "\n",
    "\"You are over-scrupulous, surely. I dare say Mr. Bingley will be very glad to see you; and I will send a few lines by you to assure him of my hearty consent to his marrying whichever he chooses of the girls; though I must throw in a good word for my little Lizzy.\"\n",
    "\n",
    "\"I desire you will do no such thing. Lizzy is not a bit better than the others; and I am sure she is not half so handsome as Jane, nor half so good-humoured as Lydia. But you are always giving her the preference.\"\n",
    "\n",
    "\"They have none of them much to recommend them,\" replied he; \"they are all silly and ignorant like other girls; but Lizzy has something more of quickness than her sisters.\"\n",
    "\n",
    "\"Mr. Bennet, how can you abuse your own children in such a way? You take delight in vexing me. You have no compassion for my poor nerves.\"\n",
    "\n",
    "\"You mistake me, my dear. I have a high respect for your nerves. They are my old friends. I have heard you mention them with consideration these last twenty years at least.\"\n",
    "\n",
    "\"Ah, you do not know what I suffer.\"\n",
    "\n",
    "\"But I hope you will get over it, and live to see many young men of four thousand a year come into the neighbourhood.\"\n",
    "\n",
    "\"It will be no use to us, if twenty such should come, since you will not visit them.\"\n",
    "\n",
    "\"Depend upon it, my dear, that when there are twenty, I will visit them all.\"\n",
    "\n",
    "Mr. Bennet was so odd a mixture of quick parts, sarcastic humour, reserve, and caprice, that the experience of three-and-twenty years had been insufficient to make his wife understand his character. Her mind was less difficult to develop. She was a woman of mean understanding, little information, and uncertain temper. When she was discontented, she fancied herself nervous. The business of her life was to get her daughters married; its solace was visiting and news.\"\"\" "
   ]
  },
  {
   "cell_type": "code",
   "execution_count": 13,
   "id": "f4292075",
   "metadata": {},
   "outputs": [
    {
     "data": {
      "text/plain": [
       "str"
      ]
     },
     "execution_count": 13,
     "metadata": {},
     "output_type": "execute_result"
    }
   ],
   "source": [
    "# find type of multiline_text\n",
    "type(multiline_text)"
   ]
  },
  {
   "cell_type": "code",
   "execution_count": 14,
   "id": "bfceefbe",
   "metadata": {},
   "outputs": [
    {
     "data": {
      "text/plain": [
       "4474"
      ]
     },
     "execution_count": 14,
     "metadata": {},
     "output_type": "execute_result"
    }
   ],
   "source": [
    "# length of multiline_text\n",
    "len(multiline_text)"
   ]
  },
  {
   "cell_type": "code",
   "execution_count": null,
   "id": "afcc59e7",
   "metadata": {},
   "outputs": [],
   "source": []
  }
 ],
 "metadata": {
  "kernelspec": {
   "display_name": "Python 3 (ipykernel)",
   "language": "python",
   "name": "python3"
  },
  "language_info": {
   "codemirror_mode": {
    "name": "ipython",
    "version": 3
   },
   "file_extension": ".py",
   "mimetype": "text/x-python",
   "name": "python",
   "nbconvert_exporter": "python",
   "pygments_lexer": "ipython3",
   "version": "3.9.7"
  }
 },
 "nbformat": 4,
 "nbformat_minor": 5
}
