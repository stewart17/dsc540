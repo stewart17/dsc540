{
 "cells": [
  {
   "cell_type": "markdown",
   "id": "df371a58",
   "metadata": {},
   "source": [
    "# Project Milestone 1\n",
    "Stewart Wilson\n",
    "\n",
    "DSC 540"
   ]
  },
  {
   "cell_type": "markdown",
   "id": "95ef53b5",
   "metadata": {},
   "source": [
    "## Project Subject Area"
   ]
  },
  {
   "cell_type": "markdown",
   "id": "d663ba71",
   "metadata": {},
   "source": [
    "In this project I will be looking at the relationship between countries responses to two major catastrophic events: climate change and the Covid-19 pandemic. Using datasets involving countries Co2 emissions, Covid cases/deaths, and vaccination rates, I will investigate how these variables interact with one another and what those relationships say about a country's orientation towards its citizenry."
   ]
  },
  {
   "cell_type": "markdown",
   "id": "334c0983",
   "metadata": {},
   "source": [
    "## Data Sources"
   ]
  },
  {
   "cell_type": "markdown",
   "id": "f8a62cf4",
   "metadata": {},
   "source": [
    "#### Flat File"
   ]
  },
  {
   "cell_type": "markdown",
   "id": "d8dc992e",
   "metadata": {},
   "source": [
    "##### *Countries CO2 Emission and more...*"
   ]
  },
  {
   "cell_type": "markdown",
   "id": "d7563493",
   "metadata": {},
   "source": [
    "A dataset containing information on countries' CO2 emissions and the various factors that influence these emissions, including population, GDP, energy type, and energy intensity."
   ]
  },
  {
   "cell_type": "markdown",
   "id": "d01e4edc",
   "metadata": {},
   "source": [
    "https://www.kaggle.com/datasets/lobosi/c02-emission-by-countrys-grouth-and-population"
   ]
  },
  {
   "cell_type": "markdown",
   "id": "017a74c3",
   "metadata": {},
   "source": [
    "#### API"
   ]
  },
  {
   "cell_type": "markdown",
   "id": "7c72e314",
   "metadata": {},
   "source": [
    "##### *HTTP API for Latest Covid-19 Data*"
   ]
  },
  {
   "cell_type": "markdown",
   "id": "20628c86",
   "metadata": {},
   "source": [
    "An API that returns summary statistics for Covid-19 cases in countries around the world. Data is updated daily and pulled from multiple sources. Information includes total cases, new cases, recovered cases, total deaths, and new deaths. In addition, data is available in raw regional form and in JSON format."
   ]
  },
  {
   "cell_type": "markdown",
   "id": "817843fa",
   "metadata": {},
   "source": [
    "https://covid19api.com/"
   ]
  },
  {
   "cell_type": "markdown",
   "id": "26f8c701",
   "metadata": {},
   "source": [
    "#### Website"
   ]
  },
  {
   "cell_type": "markdown",
   "id": "f294ac75",
   "metadata": {},
   "source": [
    "##### *Deployment of COVID-19 vaccines*"
   ]
  },
  {
   "cell_type": "markdown",
   "id": "6daf72e6",
   "metadata": {},
   "source": [
    "A Wikipedia article on the deployment of Covid-19 vaccines. Includes visualizations of the global distribution of vaccines and a table containing a list of countries with their respective vaccination rates."
   ]
  },
  {
   "cell_type": "markdown",
   "id": "7266935c",
   "metadata": {},
   "source": [
    "https://en.wikipedia.org/wiki/Deployment_of_COVID-19_vaccines"
   ]
  },
  {
   "cell_type": "markdown",
   "id": "e433fa2a",
   "metadata": {},
   "source": [
    "## Relationship Between Data"
   ]
  },
  {
   "cell_type": "markdown",
   "id": "d5cbaf59",
   "metadata": {},
   "source": [
    "All three data are linked by country. The CSV file has data on population of each country, which links it to both the API with regards to cases per capita as well as to the website data with regards to vaccination rates in each country. The API and website are related to the Covid-19 pandemic and assumably there is a relationship between vaccination rates and a country's Covid cases/deaths.  "
   ]
  },
  {
   "cell_type": "markdown",
   "id": "f52218b2",
   "metadata": {},
   "source": [
    "## Introduction to Project"
   ]
  },
  {
   "cell_type": "markdown",
   "id": "c608c29c",
   "metadata": {},
   "source": [
    "I plan to approach this project by taking each data set one at a time and formatting it. The end goal is of course to merge all these data into a single dataset in order to do some visualization work. With that in my mind, I cannot just clean each dataset as if they are separate entities. To that end, I will be formatting each file with the idea that I am trying to find a relationship between a country's CO2 emissions, the factors that influence those emissions, a country's Covid rates, and a country's vaccination rate. There may of course not be any such relationship, but I am entering the project with the idea that some relationship will be found or created. Units will be standard across data, errors corrected, standards for missing values, and bad data removed.\n",
    "\n",
    "Each dataset offers a particular glimpse into how a country operates. The emissions dataset shows the interplay between a country's emissions, GDP, population, and energy consumption/production. The Covid cases API offers a snapshot into a country's struggle with a deadly virus. And the vaccination dataset shows a country's primary defense against said virus. In each case, we are viewing a country's struggle through various lenses and indirectly, how a country views or attempts to overcome these problems. \n",
    "\n",
    "Herein lies the ethical implications of my project. Say there exists a country with high GDP, high CO2 emissions, high vaccination rates, as well as high Covid cases and deaths. What does this say about a country? There are many answers to this question, some of which may be touched upon at the conclusion of this project. But as a preliminary answer, perhaps we might say that the interaction and relationships that exists between a country's wealth, public health, and emissions gives us a glimpse into what a country prioritizes. In our example, perhaps a country prioritizes high GDP over human life. \n",
    "\n",
    "That said, this project poses several challenges. I imagine a scenario in which it is difficult to create the relationship I want between these datasets. What I said above may be true, but it is one thing to say there may be a relationship and another to find. Particularly when only observing three data sets. Another potential challenge is lining up all my data together. If one data set has more countries/territories, I will have to figure out what to do with the missing data when I merge the datasets. Moreover, integrating all three files types is not something I have ever done so I am sure I will run into problems relating to different file types and ensuring they are all formatted correctly to make a merge as seamless as possible.\n",
    "\n",
    "I look forward to working on this project and witnessing the inevitable transformations that my initial goals and methods will undertake."
   ]
  }
 ],
 "metadata": {
  "kernelspec": {
   "display_name": "Python 3 (ipykernel)",
   "language": "python",
   "name": "python3"
  },
  "language_info": {
   "codemirror_mode": {
    "name": "ipython",
    "version": 3
   },
   "file_extension": ".py",
   "mimetype": "text/x-python",
   "name": "python",
   "nbconvert_exporter": "python",
   "pygments_lexer": "ipython3",
   "version": "3.9.7"
  }
 },
 "nbformat": 4,
 "nbformat_minor": 5
}
