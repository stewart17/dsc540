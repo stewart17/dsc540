{
 "cells": [
  {
   "cell_type": "markdown",
   "id": "b62e6dae",
   "metadata": {},
   "source": [
    "# Weeks 9 & 10 Exercises"
   ]
  },
  {
   "cell_type": "markdown",
   "id": "5b51582c",
   "metadata": {},
   "source": [
    "## *Data Wrangling with Python* Activities"
   ]
  },
  {
   "cell_type": "markdown",
   "id": "60b5fa32",
   "metadata": {},
   "source": [
    "### Activity 9"
   ]
  },
  {
   "cell_type": "code",
   "execution_count": 4,
   "id": "f16468b8",
   "metadata": {},
   "outputs": [],
   "source": [
    "import re\n",
    "import pandas as pd\n",
    "import requests\n",
    "from bs4 import BeautifulSoup\n",
    "import ssl"
   ]
  },
  {
   "cell_type": "code",
   "execution_count": 5,
   "id": "fa90326b",
   "metadata": {},
   "outputs": [],
   "source": [
    "# check ssl certificate\n",
    "ctx = ssl.create_default_context()\n",
    "ctx.check_hostname = False\n",
    "ctx.verify_mode = ssl.CERT_NONE"
   ]
  },
  {
   "cell_type": "code",
   "execution_count": 9,
   "id": "a2418122",
   "metadata": {},
   "outputs": [],
   "source": [
    "# read HTML\n",
    "top_url = \"https://www.gutenberg.org/browse/scores/top\"\n",
    "response = requests.get(top_url)"
   ]
  },
  {
   "cell_type": "code",
   "execution_count": 10,
   "id": "ace3e829",
   "metadata": {},
   "outputs": [],
   "source": [
    "# check status of request\n",
    "def check_status(r):\n",
    "    if r.status_code == 200:\n",
    "        print(\"Success\")\n",
    "        return 1\n",
    "    else:\n",
    "        print(\"Failed\")\n",
    "        return -1"
   ]
  },
  {
   "cell_type": "code",
   "execution_count": 11,
   "id": "d32b2b0a",
   "metadata": {},
   "outputs": [
    {
     "name": "stdout",
     "output_type": "stream",
     "text": [
      "Success\n"
     ]
    },
    {
     "data": {
      "text/plain": [
       "1"
      ]
     },
     "execution_count": 11,
     "metadata": {},
     "output_type": "execute_result"
    }
   ],
   "source": [
    "# check status\n",
    "check_status(response)"
   ]
  },
  {
   "cell_type": "code",
   "execution_count": 12,
   "id": "099fbe70",
   "metadata": {},
   "outputs": [],
   "source": [
    "# decode response\n",
    "contents = response.content.decode(response.encoding)"
   ]
  },
  {
   "cell_type": "code",
   "execution_count": 13,
   "id": "4c335d18",
   "metadata": {},
   "outputs": [],
   "source": [
    "# soup it\n",
    "soup = BeautifulSoup(contents, \"html.parser\")"
   ]
  },
  {
   "cell_type": "code",
   "execution_count": 22,
   "id": "e9cd7c99",
   "metadata": {},
   "outputs": [],
   "source": [
    "# href list\n",
    "href_lst = []"
   ]
  },
  {
   "cell_type": "code",
   "execution_count": 23,
   "id": "196e6eeb",
   "metadata": {},
   "outputs": [],
   "source": [
    "# find all href tags and store them in list of links\n",
    "for link in soup.find_all(\"a\"):\n",
    "    href_lst.append(link.get(\"href\"))"
   ]
  },
  {
   "cell_type": "code",
   "execution_count": 34,
   "id": "69d7bea3",
   "metadata": {},
   "outputs": [
    {
     "data": {
      "text/plain": [
       "['/',\n",
       " '/about/',\n",
       " '/about/',\n",
       " '/policy/collection_development.html',\n",
       " '/about/contact_information.html',\n",
       " '/about/background/',\n",
       " '/policy/permission.html',\n",
       " '/policy/privacy_policy.html',\n",
       " '/policy/terms_of_use.html',\n",
       " '/ebooks/',\n",
       " '/ebooks/',\n",
       " '/ebooks/bookshelf/',\n",
       " '/browse/scores/top',\n",
       " '/ebooks/offline_catalogs.html',\n",
       " '/help/',\n",
       " '/help/',\n",
       " '/help/copyright.html',\n",
       " '/help/errata.html',\n",
       " '/help/file_formats.html',\n",
       " '/help/faq.html',\n",
       " '/policy/',\n",
       " '/help/public_domain_ebook_submission.html',\n",
       " '/help/submitting_your_own_work.html',\n",
       " '/help/mobile.html',\n",
       " '/attic/',\n",
       " '/donate/',\n",
       " '/donate/',\n",
       " '#books-last1',\n",
       " '#authors-last1',\n",
       " '#books-last7']"
      ]
     },
     "execution_count": 34,
     "metadata": {},
     "output_type": "execute_result"
    }
   ],
   "source": [
    "href_lst[:30]"
   ]
  },
  {
   "cell_type": "code",
   "execution_count": 26,
   "id": "2bf32640",
   "metadata": {},
   "outputs": [],
   "source": [
    "book_ID = []"
   ]
  },
  {
   "cell_type": "code",
   "execution_count": 35,
   "id": "f90fbf59",
   "metadata": {},
   "outputs": [],
   "source": [
    "for i in range(45, 145):\n",
    "    link = href_lst[i]\n",
    "    link = link.strip()\n",
    "    # regex find numeric digits\n",
    "    n = re.findall(\"[0-9]+\", link)\n",
    "    if len(n) == 1:\n",
    "        book_ID.append(int(n[0]))"
   ]
  },
  {
   "cell_type": "code",
   "execution_count": 38,
   "id": "e5033f6a",
   "metadata": {
    "scrolled": false
   },
   "outputs": [
    {
     "name": "stdout",
     "output_type": "stream",
     "text": [
      "\n",
      "\n",
      "\n",
      "\n",
      "Top 100 | Project Gutenberg\n",
      "\n",
      "\n",
      "\n",
      "\n",
      "\n",
      "\n",
      "\n",
      "\n",
      "\n",
      "\n",
      "\n",
      "\n",
      "\n",
      "\n",
      "\n",
      "\n",
      "\n",
      "\n",
      "\n",
      "\n",
      "\n",
      "\n",
      "\n",
      "\n",
      "\n",
      "\n",
      "\n",
      "Menu▾\n",
      "\n",
      "\n",
      "\n",
      "About\n",
      "          ▾\n",
      "\n",
      "▾\n",
      "\n",
      "\n",
      "About Project Gutenberg\n",
      "Collection Development\n",
      "Contact Us\n",
      "History & Philosophy\n",
      "Permissions & License\n",
      "Privacy Policy\n",
      "Terms of Use\n",
      "\n",
      "\n",
      "\n",
      "Search and Browse\n",
      "      \t  ▾\n",
      "\n",
      "▾\n",
      "\n",
      "\n",
      "Book Search\n",
      "Bookshelves\n",
      "Frequently Downloaded\n",
      "Offline Catalogs\n",
      "\n",
      "\n",
      "\n",
      "Help\n",
      "          ▾\n",
      "\n",
      "▾\n",
      "\n",
      "\n",
      "All help topics →\n",
      "Copyright Procedures\n",
      "Errata, Fixes and Bug Reports\n",
      "File Formats\n",
      "Frequently Asked Questions\n",
      "Policies →\n",
      "Public Domain eBook Submission\n",
      "Submitting Your Own Work\n",
      "Tablets, Phones and eReaders\n",
      "The Attic →\n",
      "\n",
      "\n",
      "Donate\n",
      "\n",
      "\n",
      "\n",
      "\n",
      "\n",
      "\n",
      "\n",
      "\n",
      "\n",
      "\n",
      "Donation\n",
      "\n",
      "\n",
      "\n",
      "\n",
      "\n",
      "\n",
      "\n",
      "Frequently Viewed or Downloaded\n",
      "These listings are based on the number of times each eBook gets downloaded.\n",
      "      Multiple downloads from the same Internet address on the same day count as one download, and addresses that download more than 100 eBooks in a day are considered robots and are not counted.\n",
      "\n",
      "Downloaded Books\n",
      "2022-10-31\n",
      "last 7 days511052\n",
      "last 30 days6183249\n",
      "\n",
      "\n",
      "\n",
      "Top 100 EBooks yesterday\n",
      "Top 100 Authors yesterday\n",
      "Top 100 EBooks last 7 days\n",
      "Top 100 Authors last 7 days\n",
      "Top 100 EBooks last 30 days\n",
      "Top 100 Authors last 30 days\n",
      "\n",
      "\n",
      "Top 100 EBooks yesterday\n",
      "\n",
      "\n",
      "\n",
      "\n",
      "Top 100 EBooks yesterday\n",
      "Top 100 Authors yesterday\n",
      "Top 100 EBooks last 7 days\n",
      "Top 100 Authors last 7 days\n",
      "Top 100 EBooks last 30 days\n",
      "Top 100 Authors last 30 days\n",
      "\n",
      "\n",
      "Top 100 Authors yesterday\n",
      "\n",
      "\n",
      "\n",
      "\n",
      "Top 100 EBooks yesterday\n",
      "Top 100 Authors yesterday\n",
      "Top 100 EBooks last 7 days\n",
      "Top 100 Authors last 7 days\n",
      "Top 100 EBooks last 30 days\n",
      "Top 100 Authors last 30 days\n",
      "\n",
      "\n",
      "Top 100 EBooks last 7 days\n",
      "\n",
      "A Room with a View by E. M.  Forster (12381)\n",
      "Middlemarch by George Eliot (11512)\n",
      "Little Women; Or, Meg, Jo, Beth, and Amy by Louisa May Alcott (10573)\n",
      "The Enchanted April by Elizabeth Von Arnim (10457)\n",
      "The Blue Castle: a novel by L. M.  Montgomery (10175)\n",
      "The Complete Works of William Shakespeare by William Shakespeare (10084)\n",
      "Moby Dick; Or, The Whale by Herman Melville (10030)\n",
      "The Adventures of Ferdinand Count Fathom — Complete by T.  Smollet\n"
     ]
    }
   ],
   "source": [
    "# look at soup.text\n",
    "print(soup.text[:2000])"
   ]
  },
  {
   "cell_type": "code",
   "execution_count": 89,
   "id": "e2f3e658",
   "metadata": {},
   "outputs": [],
   "source": [
    "# lst titles\n",
    "lst_titles = []"
   ]
  },
  {
   "cell_type": "code",
   "execution_count": 90,
   "id": "42695496",
   "metadata": {},
   "outputs": [],
   "source": [
    "start_idx = soup.text.splitlines().index(\"A Room with a View by E. M.  Forster (12381)\")"
   ]
  },
  {
   "cell_type": "code",
   "execution_count": 92,
   "id": "1d387c35",
   "metadata": {},
   "outputs": [],
   "source": [
    "# add all 100 titles + info in list\n",
    "for i in range(100):\n",
    "    lst_titles.append(soup.text.splitlines()[start_idx + i])"
   ]
  },
  {
   "cell_type": "code",
   "execution_count": 93,
   "id": "51b53b27",
   "metadata": {},
   "outputs": [],
   "source": [
    "# extract only the neame\n",
    "lst_titles_final = []\n",
    "for i in range(100):\n",
    "    id1, id2 = re.match('^[a-zA-Z. ]*',lst_titles[i]).span()\n",
    "    lst_titles_final.append(lst_titles[i][id1:id2])"
   ]
  },
  {
   "cell_type": "code",
   "execution_count": 94,
   "id": "6dbd5acd",
   "metadata": {
    "scrolled": true
   },
   "outputs": [
    {
     "name": "stdout",
     "output_type": "stream",
     "text": [
      "A Room with a View by E. M.  Forster \n",
      "Middlemarch by George Eliot \n",
      "Little Women\n",
      "The Enchanted April by Elizabeth Von Arnim \n",
      "The Blue Castle\n",
      "The Complete Works of William Shakespeare by William Shakespeare \n",
      "Moby Dick\n",
      "The Adventures of Ferdinand Count Fathom \n",
      "Cranford by Elizabeth Cleghorn Gaskell \n",
      "The Expedition of Humphry Clinker by T.  Smollett \n",
      "The Adventures of Roderick Random by T.  Smollett \n",
      "History of Tom Jones\n",
      "My Life \n",
      "Twenty Years After by Alexandre Dumas \n",
      "Frankenstein\n",
      "Pride and Prejudice by Jane Austen \n",
      "The Legend of Sleepy Hollow by Washington Irving \n",
      "The Scarlet Letter by Nathaniel Hawthorne \n",
      "Dracula by Bram Stoker \n",
      "The Adventures of Sherlock Holmes by Arthur Conan Doyle \n",
      "Alice\n",
      "The Yellow Wallpaper by Charlotte Perkins Gilman \n",
      "A Christmas Carol in Prose\n",
      "The Picture of Dorian Gray by Oscar Wilde \n",
      "The Strange Case of Dr. Jekyll and Mr. Hyde by Robert Louis Stevenson \n",
      "A Doll\n",
      "A Tale of Two Cities by Charles Dickens \n",
      "The Great Gatsby by F. Scott  Fitzgerald \n",
      "Noli Me Tangere by Jos\n",
      "The Grim Smile of the Five Towns by Arnold Bennett \n",
      "Great Expectations by Charles Dickens \n",
      "Grimms\n",
      "A Modest Proposal by Jonathan Swift \n",
      "The Importance of Being Earnest\n",
      "Jane Eyre\n",
      "Ulysses by James Joyce \n",
      "Metamorphosis by Franz Kafka \n",
      "The Count of Monte Cristo\n",
      "Adventures of Huckleberry Finn by Mark Twain \n",
      "Atomic Station by Frank Belknap Long \n",
      "Narrative of the Life of Frederick Douglass\n",
      "The Souls of Black Folk by W. E. B.  Du Bois \n",
      "War and Peace by graf Leo Tolstoy \n",
      "The history of silhouettes by Emily Jackson \n",
      "The Prince by Niccol\n",
      "Crime and Punishment by Fyodor Dostoyevsky \n",
      "The Iliad by Homer \n",
      "Walden\n",
      "My friend the murderer\n",
      "Emma by Jane Austen \n",
      "The adventurous lady by J. C.  Snaith \n",
      "The Works of Edgar Allan Poe \n",
      "Heart of Darkness by Joseph Conrad \n",
      "Life and literature in the Roman republic by Tenney Frank \n",
      "A vagrant wife by Florence Warden \n",
      "The Adventures of Tom Sawyer\n",
      "The Romance of Lust\n",
      "Treasure Island by Robert Louis Stevenson \n",
      "Leviathan by Thomas Hobbes \n",
      "Dubliners by James Joyce \n",
      "Chicago and the Old Northwest\n",
      "The Odyssey by Homer \n",
      "Anne of Green Gables by L. M.  Montgomery \n",
      "Wuthering Heights by Emily Bront\n",
      "The Slang Dictionary\n",
      "The Brothers Karamazov by Fyodor Dostoyevsky \n",
      "Frankenstein\n",
      "Second Treatise of Government by John Locke \n",
      "The Hound of the Baskervilles by Arthur Conan Doyle \n",
      "The Prophet by Kahlil Gibran \n",
      "Don Quixote by Miguel de Cervantes Saavedra \n",
      "Les Mis\n",
      "Calculus Made Easy by Silvanus P.  Thompson \n",
      "A Pickle for the Knowing Ones by Timothy Dexter \n",
      "The War of the Worlds by H. G.  Wells \n",
      "The Tragical History of Doctor Faustus by Christopher Marlowe \n",
      "The Kama Sutra of Vatsyayana by Vatsyayana \n",
      "Zanzibar\n",
      "Over the border by Morgan Robertson \n",
      "Anna Karenina by graf Leo Tolstoy \n",
      "The Republic by Plato \n",
      "Beowulf\n",
      "Tractatus Logico\n",
      "Peter Pan by J. M.  Barrie \n",
      "Autobiography of Benjamin Franklin by Benjamin Franklin \n",
      "Bimbo\n",
      "The Wonderful Wizard of Oz by L. Frank  Baum \n",
      "The Interesting Narrative of the Life of Olaudah Equiano\n",
      "The Jungle Book by Rudyard Kipling \n",
      "Little Women by Louisa May Alcott \n",
      "Adventures of Sherlock Holmes by Arthur Conan Doyle \n",
      "A Study in Scarlet by Arthur Conan Doyle \n",
      "Beyond Good and Evil by Friedrich Wilhelm Nietzsche \n",
      "Carmilla by Joseph Sheridan Le Fanu \n",
      "The murder of Roger Ackroyd by Agatha Christie \n",
      "Uncle Tom\n",
      "Gulliver\n",
      "The Awakening\n",
      "David Copperfield by Charles Dickens \n",
      "The King in Yellow by Robert W.  Chambers \n"
     ]
    }
   ],
   "source": [
    "# print titles\n",
    "for title in lst_titles_final:\n",
    "    print(title)"
   ]
  },
  {
   "cell_type": "markdown",
   "id": "3406bd85",
   "metadata": {},
   "source": [
    "### Activity 10"
   ]
  },
  {
   "cell_type": "code",
   "execution_count": 107,
   "id": "900ee8ed",
   "metadata": {},
   "outputs": [],
   "source": [
    "import urllib.request, urllib.parse, urllib.error\n",
    "import json\n",
    "import os"
   ]
  },
  {
   "cell_type": "code",
   "execution_count": 103,
   "id": "d67d729e",
   "metadata": {},
   "outputs": [],
   "source": [
    "# load api key\n",
    "with open('APIkeys.json') as f:\n",
    "    keys = json.load(f)\n",
    "    omdbapi = keys['OMDBapi']"
   ]
  },
  {
   "cell_type": "code",
   "execution_count": 104,
   "id": "80af763e",
   "metadata": {},
   "outputs": [],
   "source": [
    "# create url and apikey addition\n",
    "serviceurl = 'http://www.omdbapi.com/?'\n",
    "apikey = \"&apikey=\"+omdbapi"
   ]
  },
  {
   "cell_type": "code",
   "execution_count": 105,
   "id": "9666ecc8",
   "metadata": {},
   "outputs": [],
   "source": [
    "def print_json(json_data):\n",
    "    list_keys=['Title', 'Year', 'Rated', 'Released', 'Runtime', 'Genre', 'Director', 'Writer', \n",
    "               'Actors', 'Plot', 'Language', 'Country', 'Awards', 'Ratings', \n",
    "               'Metascore', 'imdbRating', 'imdbVotes', 'imdbID']\n",
    "    print(\"-\"*50)\n",
    "    for k in list_keys:\n",
    "        if k in list(json_data.keys()):\n",
    "            print(f\"{k}: {json_data[k]}\")\n",
    "    print(\"-\"*50)"
   ]
  },
  {
   "cell_type": "code",
   "execution_count": 108,
   "id": "6098382a",
   "metadata": {},
   "outputs": [],
   "source": [
    "def save_poster(json_data):\n",
    "    title = json_data['Title']\n",
    "    poster_url = json_data['Poster']\n",
    "    # Splits the poster url by '.' and picks up the last string as file extension\n",
    "    poster_file_extension=poster_url.split('.')[-1]\n",
    "    # Reads the image file from web\n",
    "    poster_data = urllib.request.urlopen(poster_url).read()\n",
    "        \n",
    "    savelocation=os.getcwd()+'\\\\'+'Posters'+'\\\\'\n",
    "    # Creates new directory if the directory does not exist. Otherwise, just use the existing path.\n",
    "    if not os.path.isdir(savelocation):\n",
    "        os.mkdir(savelocation)\n",
    "    \n",
    "    filename=savelocation+str(title)+'.'+poster_file_extension\n",
    "    f=open(filename,'wb')\n",
    "    f.write(poster_data)\n",
    "    f.close()"
   ]
  },
  {
   "cell_type": "code",
   "execution_count": 111,
   "id": "100d33eb",
   "metadata": {},
   "outputs": [],
   "source": [
    "def search_movie(title):\n",
    "    try:\n",
    "        url = serviceurl + urllib.parse.urlencode({'t': str(title)})+apikey\n",
    "        print(f'Retrieving the data of \"{title}\" now... ')\n",
    "        print(url)\n",
    "        uh = urllib.request.urlopen(url)\n",
    "        data = uh.read()\n",
    "        json_data=json.loads(data)\n",
    "        \n",
    "        if json_data['Response']=='True':\n",
    "            print_json(json_data)\n",
    "            # Asks user whether to download the poster of the movie\n",
    "            if json_data['Poster']!='N/A':\n",
    "                save_poster(json_data)\n",
    "        else:\n",
    "            print(\"Error encountered: \",json_data['Error'])\n",
    "    \n",
    "    except urllib.error.URLError as e:\n",
    "        print(f\"ERROR: {e.reason}\")"
   ]
  },
  {
   "cell_type": "code",
   "execution_count": 112,
   "id": "582afefd",
   "metadata": {},
   "outputs": [
    {
     "name": "stdout",
     "output_type": "stream",
     "text": [
      "Retrieving the data of \"Titanic\" now... \n",
      "http://www.omdbapi.com/?t=Titanic&apikey=92f4a12e\n",
      "--------------------------------------------------\n",
      "Title: Titanic\n",
      "Year: 1997\n",
      "Rated: PG-13\n",
      "Released: 19 Dec 1997\n",
      "Runtime: 194 min\n",
      "Genre: Drama, Romance\n",
      "Director: James Cameron\n",
      "Writer: James Cameron\n",
      "Actors: Leonardo DiCaprio, Kate Winslet, Billy Zane\n",
      "Plot: A seventeen-year-old aristocrat falls in love with a kind but poor artist aboard the luxurious, ill-fated R.M.S. Titanic.\n",
      "Language: English, Swedish, Italian, French\n",
      "Country: United States, Mexico\n",
      "Awards: Won 11 Oscars. 125 wins & 83 nominations total\n",
      "Ratings: [{'Source': 'Internet Movie Database', 'Value': '7.9/10'}, {'Source': 'Rotten Tomatoes', 'Value': '87%'}, {'Source': 'Metacritic', 'Value': '75/100'}]\n",
      "Metascore: 75\n",
      "imdbRating: 7.9\n",
      "imdbVotes: 1,164,233\n",
      "imdbID: tt0120338\n",
      "--------------------------------------------------\n"
     ]
    }
   ],
   "source": [
    "# test test\n",
    "search_movie(\"Titanic\")"
   ]
  },
  {
   "cell_type": "code",
   "execution_count": 113,
   "id": "c0cb8f46",
   "metadata": {},
   "outputs": [
    {
     "name": "stdout",
     "output_type": "stream",
     "text": [
      "Retrieving the data of \"Random_error\" now... \n",
      "http://www.omdbapi.com/?t=Random_error&apikey=92f4a12e\n",
      "Error encountered:  Movie not found!\n"
     ]
    }
   ],
   "source": [
    "# test with error\n",
    "search_movie(\"Random_error\")"
   ]
  },
  {
   "cell_type": "markdown",
   "id": "25e76b32",
   "metadata": {},
   "source": [
    "## Twitter API"
   ]
  },
  {
   "cell_type": "code",
   "execution_count": 116,
   "id": "ff77f15a",
   "metadata": {},
   "outputs": [],
   "source": [
    "import tweepy"
   ]
  },
  {
   "cell_type": "code",
   "execution_count": 122,
   "id": "891bcde8",
   "metadata": {},
   "outputs": [],
   "source": [
    "client = tweepy.Client(\"AAAAAAAAAAAAAAAAAAAAAIEYjAEAAAAAmOZi0TfXlGgpdy01QpbCc3s7Ovc%3DKF1S3Sl1zuWAHjEUSmUnDP6WOWz9embGLhuswfvqnApphmG3ln\")"
   ]
  },
  {
   "cell_type": "code",
   "execution_count": 127,
   "id": "862ea023",
   "metadata": {},
   "outputs": [
    {
     "name": "stdout",
     "output_type": "stream",
     "text": [
      "Response(data=[<Tweet id=1589430816379408386 text='RT @bremcmurtry08: Beyond blessed and excited to announce my commitment to Bellevue University!! So grateful for my family, coaches, and te…'>, <Tweet id=1589417443575074817 text='RT @bremcmurtry08: Beyond blessed and excited to announce my commitment to Bellevue University!! So grateful for my family, coaches, and te…'>, <Tweet id=1589410698484146176 text='RT @bremcmurtry08: Beyond blessed and excited to announce my commitment to Bellevue University!! So grateful for my family, coaches, and te…'>, <Tweet id=1589408298784235526 text='The all-around play of Bellevue University junior outside hitter Allie Kerns led the 16th-ranked Bruins volleyball team to a 3-1 (25-16, 22-25, 25-17, 25-15) upset victory over seventh-ranked Viterbo University https://t.co/R3FzdGrzwV'>, <Tweet id=1589408162884747269 text='RT @bremcmurtry08: Beyond blessed and excited to announce my commitment to Bellevue University!! So grateful for my family, coaches, and te…'>, <Tweet id=1589377019736776706 text='RT @NEBHSFB: Congratulations to Bellevue West 2023 TE Cayden Echternach, who has committed to attend the University of Nebraska. #NebPreps'>, <Tweet id=1589314691590803457 text=\"RT @OMAStormChasers: We recently dropped off donation items, that we collected from around the ballpark, to Bellevue University's Military…\">, <Tweet id=1589308096689672193 text='Join the City University Of New York team! Our latest job opening https://t.co/Xo7r8YJCRE New York, NY'>, <Tweet id=1589308087562866691 text='Join the City University Of New York team! Our latest job opening https://t.co/e4GrOG9MIM New York, NY'>, <Tweet id=1589279436410859521 text='RT @bremcmurtry08: Beyond blessed and excited to announce my commitment to Bellevue University!! So grateful for my family, coaches, and te…'>], includes={}, errors=[], meta={'newest_id': '1589430816379408386', 'oldest_id': '1589279436410859521', 'result_count': 10, 'next_token': 'b26v89c19zqg8o3fpzen89b71gwc58y1wpphxowd0f9fh'})\n"
     ]
    }
   ],
   "source": [
    "# define my question as query\n",
    "query = \"Bellevue University\"\n",
    "# search recent tweets for my query\n",
    "results1 = client.search_recent_tweets(query = query)\n",
    "print(results1)"
   ]
  },
  {
   "cell_type": "markdown",
   "id": "271b25cf",
   "metadata": {},
   "source": [
    "## Visualization Practice"
   ]
  },
  {
   "cell_type": "code",
   "execution_count": 117,
   "id": "62b23296",
   "metadata": {},
   "outputs": [],
   "source": [
    "import matplotlib.pyplot as plt"
   ]
  },
  {
   "cell_type": "code",
   "execution_count": 129,
   "id": "773e0206",
   "metadata": {},
   "outputs": [
    {
     "name": "stderr",
     "output_type": "stream",
     "text": [
      "C:\\Users\\Stewart\\anaconda3\\lib\\site-packages\\openpyxl\\worksheet\\_reader.py:312: UserWarning: Unknown extension is not supported and will be removed\n",
      "  warn(msg)\n"
     ]
    },
    {
     "data": {
      "text/html": [
       "<div>\n",
       "<style scoped>\n",
       "    .dataframe tbody tr th:only-of-type {\n",
       "        vertical-align: middle;\n",
       "    }\n",
       "\n",
       "    .dataframe tbody tr th {\n",
       "        vertical-align: top;\n",
       "    }\n",
       "\n",
       "    .dataframe thead th {\n",
       "        text-align: right;\n",
       "    }\n",
       "</style>\n",
       "<table border=\"1\" class=\"dataframe\">\n",
       "  <thead>\n",
       "    <tr style=\"text-align: right;\">\n",
       "      <th></th>\n",
       "      <th>ITEM</th>\n",
       "      <th>JOY</th>\n",
       "      <th>DESPAIR</th>\n",
       "      <th>NET FEELIES</th>\n",
       "      <th>NET CLOUT</th>\n",
       "      <th>DESPAIR (NEG)</th>\n",
       "    </tr>\n",
       "  </thead>\n",
       "  <tbody>\n",
       "    <tr>\n",
       "      <th>0</th>\n",
       "      <td>York Peppermint Patties</td>\n",
       "      <td>634</td>\n",
       "      <td>78</td>\n",
       "      <td>556.0</td>\n",
       "      <td>1.639118</td>\n",
       "      <td>-78.0</td>\n",
       "    </tr>\n",
       "    <tr>\n",
       "      <th>1</th>\n",
       "      <td>Whole Wheat anything</td>\n",
       "      <td>21</td>\n",
       "      <td>419</td>\n",
       "      <td>-398.0</td>\n",
       "      <td>1.012938</td>\n",
       "      <td>-419.0</td>\n",
       "    </tr>\n",
       "    <tr>\n",
       "      <th>2</th>\n",
       "      <td>White Bread</td>\n",
       "      <td>15</td>\n",
       "      <td>473</td>\n",
       "      <td>-458.0</td>\n",
       "      <td>1.123440</td>\n",
       "      <td>-473.0</td>\n",
       "    </tr>\n",
       "    <tr>\n",
       "      <th>3</th>\n",
       "      <td>Vicodin</td>\n",
       "      <td>323</td>\n",
       "      <td>210</td>\n",
       "      <td>113.0</td>\n",
       "      <td>1.227036</td>\n",
       "      <td>-210.0</td>\n",
       "    </tr>\n",
       "    <tr>\n",
       "      <th>4</th>\n",
       "      <td>Twix</td>\n",
       "      <td>770</td>\n",
       "      <td>26</td>\n",
       "      <td>744.0</td>\n",
       "      <td>1.832497</td>\n",
       "      <td>-26.0</td>\n",
       "    </tr>\n",
       "    <tr>\n",
       "      <th>...</th>\n",
       "      <td>...</td>\n",
       "      <td>...</td>\n",
       "      <td>...</td>\n",
       "      <td>...</td>\n",
       "      <td>...</td>\n",
       "      <td>...</td>\n",
       "    </tr>\n",
       "    <tr>\n",
       "      <th>82</th>\n",
       "      <td>Black Jacks</td>\n",
       "      <td>34</td>\n",
       "      <td>252</td>\n",
       "      <td>-218.0</td>\n",
       "      <td>0.658410</td>\n",
       "      <td>-252.0</td>\n",
       "    </tr>\n",
       "    <tr>\n",
       "      <th>83</th>\n",
       "      <td>Any full-sized candy bar</td>\n",
       "      <td>828</td>\n",
       "      <td>13</td>\n",
       "      <td>815.0</td>\n",
       "      <td>1.936093</td>\n",
       "      <td>-13.0</td>\n",
       "    </tr>\n",
       "    <tr>\n",
       "      <th>84</th>\n",
       "      <td>Anonymous brown globs that come in black and o...</td>\n",
       "      <td>120</td>\n",
       "      <td>663</td>\n",
       "      <td>-543.0</td>\n",
       "      <td>1.802569</td>\n",
       "      <td>-663.0</td>\n",
       "    </tr>\n",
       "    <tr>\n",
       "      <th>85</th>\n",
       "      <td>100 Grand Bar</td>\n",
       "      <td>570</td>\n",
       "      <td>34</td>\n",
       "      <td>536.0</td>\n",
       "      <td>1.390488</td>\n",
       "      <td>-34.0</td>\n",
       "    </tr>\n",
       "    <tr>\n",
       "      <th>86</th>\n",
       "      <td>NaN</td>\n",
       "      <td>26204</td>\n",
       "      <td>17563</td>\n",
       "      <td>NaN</td>\n",
       "      <td>NaN</td>\n",
       "      <td>NaN</td>\n",
       "    </tr>\n",
       "  </tbody>\n",
       "</table>\n",
       "<p>87 rows × 6 columns</p>\n",
       "</div>"
      ],
      "text/plain": [
       "                                                 ITEM    JOY  DESPAIR  \\\n",
       "0                             York Peppermint Patties    634       78   \n",
       "1                                Whole Wheat anything     21      419   \n",
       "2                                         White Bread     15      473   \n",
       "3                                             Vicodin    323      210   \n",
       "4                                                Twix    770       26   \n",
       "..                                                ...    ...      ...   \n",
       "82                                        Black Jacks     34      252   \n",
       "83                           Any full-sized candy bar    828       13   \n",
       "84  Anonymous brown globs that come in black and o...    120      663   \n",
       "85                                      100 Grand Bar    570       34   \n",
       "86                                                NaN  26204    17563   \n",
       "\n",
       "    NET FEELIES  NET CLOUT  DESPAIR (NEG)  \n",
       "0         556.0   1.639118          -78.0  \n",
       "1        -398.0   1.012938         -419.0  \n",
       "2        -458.0   1.123440         -473.0  \n",
       "3         113.0   1.227036         -210.0  \n",
       "4         744.0   1.832497          -26.0  \n",
       "..          ...        ...            ...  \n",
       "82       -218.0   0.658410         -252.0  \n",
       "83        815.0   1.936093          -13.0  \n",
       "84       -543.0   1.802569         -663.0  \n",
       "85        536.0   1.390488          -34.0  \n",
       "86          NaN        NaN            NaN  \n",
       "\n",
       "[87 rows x 6 columns]"
      ]
     },
     "execution_count": 129,
     "metadata": {},
     "output_type": "execute_result"
    }
   ],
   "source": [
    "candy = pd.read_excel(\"CANDYDATA.xlsx\")\n",
    "candy"
   ]
  },
  {
   "cell_type": "code",
   "execution_count": 130,
   "id": "e7a0b80a",
   "metadata": {},
   "outputs": [
    {
     "data": {
      "text/plain": [
       "<AxesSubplot:ylabel='Density'>"
      ]
     },
     "execution_count": 130,
     "metadata": {},
     "output_type": "execute_result"
    },
    {
     "data": {
      "image/png": "[encoded data removed]",
      "text/plain": [
       "<Figure size 432x288 with 1 Axes>"
      ]
     },
     "metadata": {
      "needs_background": "light"
     },
     "output_type": "display_data"
    }
   ],
   "source": [
    "# density graph\n",
    "candy[\"NET FEELIES\"].plot.density()"
   ]
  },
  {
   "cell_type": "code",
   "execution_count": 133,
   "id": "d08819b1",
   "metadata": {},
   "outputs": [
    {
     "data": {
      "image/png": "[encoded data removed]",
      "text/plain": [
       "<Figure size 432x288 with 1 Axes>"
      ]
     },
     "metadata": {
      "needs_background": "light"
     },
     "output_type": "display_data"
    }
   ],
   "source": [
    "# scatterplot \n",
    "plt.scatter(candy[\"NET FEELIES\"], candy[\"NET CLOUT\"])\n",
    "plt.xlabel(\"Net Feelies\")\n",
    "plt.ylabel(\"Net Clout\")\n",
    "plt.title(\"Net Feelies vs Net Clout\")\n",
    "plt.show()"
   ]
  },
  {
   "cell_type": "code",
   "execution_count": 136,
   "id": "252b8c0f",
   "metadata": {},
   "outputs": [],
   "source": [
    "candy2 = candy.dropna()"
   ]
  },
  {
   "cell_type": "code",
   "execution_count": 142,
   "id": "c6900112",
   "metadata": {},
   "outputs": [
    {
     "data": {
      "text/html": [
       "<div>\n",
       "<style scoped>\n",
       "    .dataframe tbody tr th:only-of-type {\n",
       "        vertical-align: middle;\n",
       "    }\n",
       "\n",
       "    .dataframe tbody tr th {\n",
       "        vertical-align: top;\n",
       "    }\n",
       "\n",
       "    .dataframe thead th {\n",
       "        text-align: right;\n",
       "    }\n",
       "</style>\n",
       "<table border=\"1\" class=\"dataframe\">\n",
       "  <thead>\n",
       "    <tr style=\"text-align: right;\">\n",
       "      <th></th>\n",
       "      <th>ITEM</th>\n",
       "      <th>JOY</th>\n",
       "      <th>DESPAIR</th>\n",
       "      <th>NET FEELIES</th>\n",
       "      <th>NET CLOUT</th>\n",
       "      <th>DESPAIR (NEG)</th>\n",
       "    </tr>\n",
       "  </thead>\n",
       "  <tbody>\n",
       "    <tr>\n",
       "      <th>73</th>\n",
       "      <td>Candy that is clearly just the stuff given out...</td>\n",
       "      <td>29</td>\n",
       "      <td>621</td>\n",
       "      <td>-592.0</td>\n",
       "      <td>1.496386</td>\n",
       "      <td>-621.0</td>\n",
       "    </tr>\n",
       "    <tr>\n",
       "      <th>77</th>\n",
       "      <td>Broken glow stick</td>\n",
       "      <td>14</td>\n",
       "      <td>579</td>\n",
       "      <td>-565.0</td>\n",
       "      <td>1.365164</td>\n",
       "      <td>-579.0</td>\n",
       "    </tr>\n",
       "    <tr>\n",
       "      <th>84</th>\n",
       "      <td>Anonymous brown globs that come in black and o...</td>\n",
       "      <td>120</td>\n",
       "      <td>663</td>\n",
       "      <td>-543.0</td>\n",
       "      <td>1.802569</td>\n",
       "      <td>-663.0</td>\n",
       "    </tr>\n",
       "    <tr>\n",
       "      <th>67</th>\n",
       "      <td>Dental paraphenalia</td>\n",
       "      <td>43</td>\n",
       "      <td>586</td>\n",
       "      <td>-543.0</td>\n",
       "      <td>1.448041</td>\n",
       "      <td>-586.0</td>\n",
       "    </tr>\n",
       "    <tr>\n",
       "      <th>79</th>\n",
       "      <td>Box’o’ Raisins</td>\n",
       "      <td>47</td>\n",
       "      <td>585</td>\n",
       "      <td>-538.0</td>\n",
       "      <td>1.454947</td>\n",
       "      <td>-585.0</td>\n",
       "    </tr>\n",
       "    <tr>\n",
       "      <th>...</th>\n",
       "      <td>...</td>\n",
       "      <td>...</td>\n",
       "      <td>...</td>\n",
       "      <td>...</td>\n",
       "      <td>...</td>\n",
       "      <td>...</td>\n",
       "    </tr>\n",
       "    <tr>\n",
       "      <th>13</th>\n",
       "      <td>Snickers</td>\n",
       "      <td>739</td>\n",
       "      <td>27</td>\n",
       "      <td>712.0</td>\n",
       "      <td>1.763433</td>\n",
       "      <td>-27.0</td>\n",
       "    </tr>\n",
       "    <tr>\n",
       "      <th>4</th>\n",
       "      <td>Twix</td>\n",
       "      <td>770</td>\n",
       "      <td>26</td>\n",
       "      <td>744.0</td>\n",
       "      <td>1.832497</td>\n",
       "      <td>-26.0</td>\n",
       "    </tr>\n",
       "    <tr>\n",
       "      <th>83</th>\n",
       "      <td>Any full-sized candy bar</td>\n",
       "      <td>828</td>\n",
       "      <td>13</td>\n",
       "      <td>815.0</td>\n",
       "      <td>1.936093</td>\n",
       "      <td>-13.0</td>\n",
       "    </tr>\n",
       "    <tr>\n",
       "      <th>47</th>\n",
       "      <td>Kit Kat</td>\n",
       "      <td>894</td>\n",
       "      <td>15</td>\n",
       "      <td>879.0</td>\n",
       "      <td>2.092638</td>\n",
       "      <td>-15.0</td>\n",
       "    </tr>\n",
       "    <tr>\n",
       "      <th>23</th>\n",
       "      <td>Reese’s Peanut Butter Cups</td>\n",
       "      <td>983</td>\n",
       "      <td>47</td>\n",
       "      <td>936.0</td>\n",
       "      <td>2.371196</td>\n",
       "      <td>-47.0</td>\n",
       "    </tr>\n",
       "  </tbody>\n",
       "</table>\n",
       "<p>86 rows × 6 columns</p>\n",
       "</div>"
      ],
      "text/plain": [
       "                                                 ITEM  JOY  DESPAIR  \\\n",
       "73  Candy that is clearly just the stuff given out...   29      621   \n",
       "77                                  Broken glow stick   14      579   \n",
       "84  Anonymous brown globs that come in black and o...  120      663   \n",
       "67                                Dental paraphenalia   43      586   \n",
       "79                                     Box’o’ Raisins   47      585   \n",
       "..                                                ...  ...      ...   \n",
       "13                                           Snickers  739       27   \n",
       "4                                                Twix  770       26   \n",
       "83                           Any full-sized candy bar  828       13   \n",
       "47                                            Kit Kat  894       15   \n",
       "23                         Reese’s Peanut Butter Cups  983       47   \n",
       "\n",
       "    NET FEELIES  NET CLOUT  DESPAIR (NEG)  \n",
       "73       -592.0   1.496386         -621.0  \n",
       "77       -565.0   1.365164         -579.0  \n",
       "84       -543.0   1.802569         -663.0  \n",
       "67       -543.0   1.448041         -586.0  \n",
       "79       -538.0   1.454947         -585.0  \n",
       "..          ...        ...            ...  \n",
       "13        712.0   1.763433          -27.0  \n",
       "4         744.0   1.832497          -26.0  \n",
       "83        815.0   1.936093          -13.0  \n",
       "47        879.0   2.092638          -15.0  \n",
       "23        936.0   2.371196          -47.0  \n",
       "\n",
       "[86 rows x 6 columns]"
      ]
     },
     "execution_count": 142,
     "metadata": {},
     "output_type": "execute_result"
    }
   ],
   "source": [
    "candy3 = candy2.sort_values(\"NET FEELIES\")\n",
    "candy3"
   ]
  },
  {
   "cell_type": "code",
   "execution_count": 143,
   "id": "331978ab",
   "metadata": {},
   "outputs": [
    {
     "data": {
      "text/html": [
       "<div>\n",
       "<style scoped>\n",
       "    .dataframe tbody tr th:only-of-type {\n",
       "        vertical-align: middle;\n",
       "    }\n",
       "\n",
       "    .dataframe tbody tr th {\n",
       "        vertical-align: top;\n",
       "    }\n",
       "\n",
       "    .dataframe thead th {\n",
       "        text-align: right;\n",
       "    }\n",
       "</style>\n",
       "<table border=\"1\" class=\"dataframe\">\n",
       "  <thead>\n",
       "    <tr style=\"text-align: right;\">\n",
       "      <th></th>\n",
       "      <th>ITEM</th>\n",
       "      <th>JOY</th>\n",
       "      <th>DESPAIR</th>\n",
       "      <th>NET FEELIES</th>\n",
       "      <th>NET CLOUT</th>\n",
       "      <th>DESPAIR (NEG)</th>\n",
       "    </tr>\n",
       "  </thead>\n",
       "  <tbody>\n",
       "    <tr>\n",
       "      <th>73</th>\n",
       "      <td>Candy that is clearly just the stuff given out...</td>\n",
       "      <td>29</td>\n",
       "      <td>621</td>\n",
       "      <td>-592.0</td>\n",
       "      <td>1.496386</td>\n",
       "      <td>-621.0</td>\n",
       "    </tr>\n",
       "    <tr>\n",
       "      <th>77</th>\n",
       "      <td>Broken glow stick</td>\n",
       "      <td>14</td>\n",
       "      <td>579</td>\n",
       "      <td>-565.0</td>\n",
       "      <td>1.365164</td>\n",
       "      <td>-579.0</td>\n",
       "    </tr>\n",
       "    <tr>\n",
       "      <th>84</th>\n",
       "      <td>Anonymous brown globs that come in black and o...</td>\n",
       "      <td>120</td>\n",
       "      <td>663</td>\n",
       "      <td>-543.0</td>\n",
       "      <td>1.802569</td>\n",
       "      <td>-663.0</td>\n",
       "    </tr>\n",
       "    <tr>\n",
       "      <th>67</th>\n",
       "      <td>Dental paraphenalia</td>\n",
       "      <td>43</td>\n",
       "      <td>586</td>\n",
       "      <td>-543.0</td>\n",
       "      <td>1.448041</td>\n",
       "      <td>-586.0</td>\n",
       "    </tr>\n",
       "    <tr>\n",
       "      <th>79</th>\n",
       "      <td>Box’o’ Raisins</td>\n",
       "      <td>47</td>\n",
       "      <td>585</td>\n",
       "      <td>-538.0</td>\n",
       "      <td>1.454947</td>\n",
       "      <td>-585.0</td>\n",
       "    </tr>\n",
       "    <tr>\n",
       "      <th>69</th>\n",
       "      <td>Creepy Religious comics/Chick Tracts</td>\n",
       "      <td>126</td>\n",
       "      <td>607</td>\n",
       "      <td>-481.0</td>\n",
       "      <td>1.687463</td>\n",
       "      <td>-607.0</td>\n",
       "    </tr>\n",
       "    <tr>\n",
       "      <th>2</th>\n",
       "      <td>White Bread</td>\n",
       "      <td>15</td>\n",
       "      <td>473</td>\n",
       "      <td>-458.0</td>\n",
       "      <td>1.123440</td>\n",
       "      <td>-473.0</td>\n",
       "    </tr>\n",
       "    <tr>\n",
       "      <th>60</th>\n",
       "      <td>Gum from baseball cards</td>\n",
       "      <td>21</td>\n",
       "      <td>471</td>\n",
       "      <td>-450.0</td>\n",
       "      <td>1.132649</td>\n",
       "      <td>-471.0</td>\n",
       "    </tr>\n",
       "    <tr>\n",
       "      <th>49</th>\n",
       "      <td>Kale smoothie</td>\n",
       "      <td>51</td>\n",
       "      <td>497</td>\n",
       "      <td>-446.0</td>\n",
       "      <td>1.261568</td>\n",
       "      <td>-497.0</td>\n",
       "    </tr>\n",
       "    <tr>\n",
       "      <th>8</th>\n",
       "      <td>Those odd marshmallow circus peanut things</td>\n",
       "      <td>135</td>\n",
       "      <td>545</td>\n",
       "      <td>-410.0</td>\n",
       "      <td>1.565450</td>\n",
       "      <td>-545.0</td>\n",
       "    </tr>\n",
       "  </tbody>\n",
       "</table>\n",
       "</div>"
      ],
      "text/plain": [
       "                                                 ITEM  JOY  DESPAIR  \\\n",
       "73  Candy that is clearly just the stuff given out...   29      621   \n",
       "77                                  Broken glow stick   14      579   \n",
       "84  Anonymous brown globs that come in black and o...  120      663   \n",
       "67                                Dental paraphenalia   43      586   \n",
       "79                                     Box’o’ Raisins   47      585   \n",
       "69               Creepy Religious comics/Chick Tracts  126      607   \n",
       "2                                         White Bread   15      473   \n",
       "60                            Gum from baseball cards   21      471   \n",
       "49                                      Kale smoothie   51      497   \n",
       "8          Those odd marshmallow circus peanut things  135      545   \n",
       "\n",
       "    NET FEELIES  NET CLOUT  DESPAIR (NEG)  \n",
       "73       -592.0   1.496386         -621.0  \n",
       "77       -565.0   1.365164         -579.0  \n",
       "84       -543.0   1.802569         -663.0  \n",
       "67       -543.0   1.448041         -586.0  \n",
       "79       -538.0   1.454947         -585.0  \n",
       "69       -481.0   1.687463         -607.0  \n",
       "2        -458.0   1.123440         -473.0  \n",
       "60       -450.0   1.132649         -471.0  \n",
       "49       -446.0   1.261568         -497.0  \n",
       "8        -410.0   1.565450         -545.0  "
      ]
     },
     "execution_count": 143,
     "metadata": {},
     "output_type": "execute_result"
    }
   ],
   "source": [
    "candy3.head(10)"
   ]
  },
  {
   "cell_type": "code",
   "execution_count": 138,
   "id": "a2bff5eb",
   "metadata": {},
   "outputs": [
    {
     "data": {
      "text/plain": [
       "Text(0.5, 1.0, 'Line Plot of Joy vs Despair')"
      ]
     },
     "execution_count": 138,
     "metadata": {},
     "output_type": "execute_result"
    },
    {
     "data": {
      "image/png": "[encoded data removed]",
      "text/plain": [
       "<Figure size 432x288 with 1 Axes>"
      ]
     },
     "metadata": {
      "needs_background": "light"
     },
     "output_type": "display_data"
    }
   ],
   "source": [
    "# line plot of joy vs despair\n",
    "plt.plot(candy2[\"JOY\"], candy2[\"DESPAIR\"])\n",
    "plt.xlabel(\"Joy\")\n",
    "plt.ylabel(\"Despair\")\n",
    "plt.title(\"Line Plot of Joy vs Despair\")"
   ]
  }
 ],
 "metadata": {
  "kernelspec": {
   "display_name": "Python 3 (ipykernel)",
   "language": "python",
   "name": "python3"
  },
  "language_info": {
   "codemirror_mode": {
    "name": "ipython",
    "version": 3
   },
   "file_extension": ".py",
   "mimetype": "text/x-python",
   "name": "python",
   "nbconvert_exporter": "python",
   "pygments_lexer": "ipython3",
   "version": "3.9.7"
  }
 },
 "nbformat": 4,
 "nbformat_minor": 5
}
