{
 "cells": [
  {
   "cell_type": "markdown",
   "id": "b799f58d",
   "metadata": {},
   "source": [
    "# Weeks 11 & 12 Exercises"
   ]
  },
  {
   "cell_type": "code",
   "execution_count": 8,
   "id": "0d5e9533",
   "metadata": {},
   "outputs": [],
   "source": [
    "import sqlite3"
   ]
  },
  {
   "cell_type": "code",
   "execution_count": 9,
   "id": "9e0d830e",
   "metadata": {},
   "outputs": [],
   "source": [
    "conn = sqlite3.connect(\"petsdb\")"
   ]
  },
  {
   "cell_type": "code",
   "execution_count": 10,
   "id": "cada6334",
   "metadata": {},
   "outputs": [],
   "source": [
    "# is connection successfuL?\n",
    "def check_connection(conn):\n",
    "    try:\n",
    "        conn.execute(\"SELECT * FROM persons LIMIT 1\")\n",
    "        return True\n",
    "    except sqlite3.ProgrammingError as e:\n",
    "        print(f\"Connection closed {e}\")\n",
    "        return False"
   ]
  },
  {
   "cell_type": "code",
   "execution_count": 11,
   "id": "3bbf0c56",
   "metadata": {},
   "outputs": [
    {
     "name": "stdout",
     "output_type": "stream",
     "text": [
      "True\n"
     ]
    }
   ],
   "source": [
    "print(check_connection(conn))"
   ]
  },
  {
   "cell_type": "code",
   "execution_count": 12,
   "id": "d89feab5",
   "metadata": {},
   "outputs": [],
   "source": [
    "cursor = conn.cursor()"
   ]
  },
  {
   "cell_type": "code",
   "execution_count": 31,
   "id": "42d00052",
   "metadata": {
    "scrolled": true
   },
   "outputs": [
    {
     "name": "stdout",
     "output_type": "stream",
     "text": [
      "Number of people aged 5: 2\n",
      "Number of people aged 6: 1\n",
      "Number of people aged 7: 1\n",
      "Number of people aged 8: 3\n",
      "Number of people aged 9: 1\n",
      "Number of people aged 11: 2\n",
      "Number of people aged 12: 3\n",
      "Number of people aged 13: 1\n",
      "Number of people aged 14: 4\n",
      "Number of people aged 16: 2\n",
      "Number of people aged 17: 2\n",
      "Number of people aged 18: 3\n",
      "Number of people aged 19: 1\n",
      "Number of people aged 22: 3\n",
      "Number of people aged 23: 2\n",
      "Number of people aged 24: 3\n",
      "Number of people aged 25: 2\n",
      "Number of people aged 27: 1\n",
      "Number of people aged 30: 1\n",
      "Number of people aged 31: 3\n",
      "Number of people aged 32: 1\n",
      "Number of people aged 33: 1\n",
      "Number of people aged 34: 2\n",
      "Number of people aged 35: 3\n",
      "Number of people aged 36: 3\n",
      "Number of people aged 37: 1\n",
      "Number of people aged 39: 2\n",
      "Number of people aged 40: 1\n",
      "Number of people aged 42: 1\n",
      "Number of people aged 44: 2\n",
      "Number of people aged 48: 2\n",
      "Number of people aged 49: 1\n",
      "Number of people aged 50: 1\n",
      "Number of people aged 51: 2\n",
      "Number of people aged 52: 2\n",
      "Number of people aged 53: 2\n",
      "Number of people aged 54: 2\n",
      "Number of people aged 58: 1\n",
      "Number of people aged 59: 1\n",
      "Number of people aged 60: 1\n",
      "Number of people aged 61: 1\n",
      "Number of people aged 62: 2\n",
      "Number of people aged 63: 1\n",
      "Number of people aged 65: 2\n",
      "Number of people aged 66: 2\n",
      "Number of people aged 67: 1\n",
      "Number of people aged 68: 3\n",
      "Number of people aged 69: 1\n",
      "Number of people aged 70: 1\n",
      "Number of people aged 71: 4\n",
      "Number of people aged 72: 1\n",
      "Number of people aged 73: 5\n",
      "Number of people aged 74: 3\n"
     ]
    }
   ],
   "source": [
    "# different age groups in db\n",
    "for ppl, age in cursor.execute(\"SELECT count(*), age FROM persons GROUP BY age\"):\n",
    "    print(f\"Number of people aged {age}: {ppl}\")"
   ]
  },
  {
   "cell_type": "code",
   "execution_count": 33,
   "id": "b9aa5e7c",
   "metadata": {},
   "outputs": [
    {
     "name": "stdout",
     "output_type": "stream",
     "text": [
      "Highest number of people 5 from 73 age group\n"
     ]
    }
   ],
   "source": [
    "# age group with max number of people\n",
    "for ppl, age in cursor.execute(\"SELECT count(*), age FROM persons GROUP BY age ORDER BY count(*) DESC\"):\n",
    "    print(f\"Highest number of people {ppl} from {age} age group\")\n",
    "    break"
   ]
  },
  {
   "cell_type": "code",
   "execution_count": 34,
   "id": "dfb5cd25",
   "metadata": {},
   "outputs": [
    {
     "name": "stdout",
     "output_type": "stream",
     "text": [
      "(60,)\n"
     ]
    }
   ],
   "source": [
    "# who doesn't have last name\n",
    "for row in cursor.execute(\"SELECT count(*) FROM persons WHERE last_name IS null\"):\n",
    "    print(row)"
   ]
  },
  {
   "cell_type": "code",
   "execution_count": 36,
   "id": "bc39244f",
   "metadata": {},
   "outputs": [
    {
     "name": "stdout",
     "output_type": "stream",
     "text": [
      "(43,) People has more than one pets\n"
     ]
    }
   ],
   "source": [
    "# Who has more than one pet\n",
    "for row in cursor.execute(\"SELECT count(*) FROM (SELECT count(owner_id) FROM pets GROUP BY owner_id HAVING count(owner_id) > 1)\"):\n",
    "    print(f\"{row} People has more than one pets\")"
   ]
  },
  {
   "cell_type": "code",
   "execution_count": 38,
   "id": "bdd216c3",
   "metadata": {},
   "outputs": [
    {
     "name": "stdout",
     "output_type": "stream",
     "text": [
      "(36,)\n"
     ]
    }
   ],
   "source": [
    "# how many received treatment\n",
    "for row in cursor.execute(\"SELECT count(*) FROM pets WHERE treatment_done=1\"):\n",
    "    print(row)"
   ]
  },
  {
   "cell_type": "code",
   "execution_count": 40,
   "id": "49a4eaf0",
   "metadata": {},
   "outputs": [
    {
     "name": "stdout",
     "output_type": "stream",
     "text": [
      "(16,)\n"
     ]
    }
   ],
   "source": [
    "# how many received treatment and pet type known\n",
    "for row in cursor.execute(\"SELECT count(*) FROM pets WHERE treatment_done=1 AND pet_type IS NOT null\"):\n",
    "    print(row)"
   ]
  },
  {
   "cell_type": "code",
   "execution_count": 42,
   "id": "4ebb34ae",
   "metadata": {},
   "outputs": [
    {
     "name": "stdout",
     "output_type": "stream",
     "text": [
      "(49,)\n"
     ]
    }
   ],
   "source": [
    "# how many from east port\n",
    "for row in cursor.execute(\"SELECT count(*) FROM pets JOIN persons on pets.owner_id = persons.id WHERE persons.city='east port'\"):\n",
    "    print(row)"
   ]
  },
  {
   "cell_type": "code",
   "execution_count": 43,
   "id": "d097ce6a",
   "metadata": {},
   "outputs": [
    {
     "name": "stdout",
     "output_type": "stream",
     "text": [
      "(11,)\n"
     ]
    }
   ],
   "source": [
    "# how many from east port that received treatment\n",
    "for row in cursor.execute(\"SELECT count(*) FROM pets JOIN persons on pets.owner_id = persons.id WHERE persons.city='east port' AND pets.treatment_done=1\"):\n",
    "    print(row)"
   ]
  }
 ],
 "metadata": {
  "kernelspec": {
   "display_name": "Python 3 (ipykernel)",
   "language": "python",
   "name": "python3"
  },
  "language_info": {
   "codemirror_mode": {
    "name": "ipython",
    "version": 3
   },
   "file_extension": ".py",
   "mimetype": "text/x-python",
   "name": "python",
   "nbconvert_exporter": "python",
   "pygments_lexer": "ipython3",
   "version": "3.9.7"
  }
 },
 "nbformat": 4,
 "nbformat_minor": 5
}
